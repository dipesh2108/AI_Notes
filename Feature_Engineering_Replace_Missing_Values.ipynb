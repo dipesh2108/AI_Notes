{
  "nbformat": 4,
  "nbformat_minor": 0,
  "metadata": {
    "colab": {
      "provenance": [],
      "include_colab_link": true
    },
    "kernelspec": {
      "name": "python3",
      "display_name": "Python 3"
    },
    "language_info": {
      "name": "python"
    }
  },
  "cells": [
    {
      "cell_type": "markdown",
      "metadata": {
        "id": "view-in-github",
        "colab_type": "text"
      },
      "source": [
        "<a href=\"https://colab.research.google.com/github/dipesh2108/AI_Notes/blob/main/Feature_Engineering_Replace_Missing_Values.ipynb\" target=\"_parent\"><img src=\"https://colab.research.google.com/assets/colab-badge.svg\" alt=\"Open In Colab\"/></a>"
      ]
    },
    {
      "cell_type": "markdown",
      "source": [
        "Handling missing values in a DataFrame is a crucial step in data preprocessing. There are various methods to fill or replace missing values in a DataFrame, depending on the nature of the data and the problem you're trying to solve. Here's a list of common methods:\n",
        "\n",
        "1. **Removing Rows with Missing Values:**\n",
        "   - If the missing values are relatively few and won't significantly impact the dataset's integrity, you can simply remove rows with missing values using methods like `dropna()`.\n",
        "\n",
        "2. **Filling with a Constant Value:**\n",
        "   - You can replace missing values with a constant value using `fillna()`. Common choices include replacing missing numerical values with 0 or missing categorical values with \"Unknown.\"\n",
        "\n",
        "3. **Forward Fill (or Backward Fill):**\n",
        "   - For time series or ordered data, you can fill missing values with the previous (forward fill) or next (backward fill) valid value using `fillna(method='ffill')` or `fillna(method='bfill')`.\n",
        "\n",
        "4. **Interpolation:**\n",
        "   - You can perform interpolation to estimate missing values based on existing data points. Methods like linear interpolation (`interpolate(method='linear')`) or polynomial interpolation can be used.\n",
        "\n",
        "5. **Mean, Median, or Mode Imputation:**\n",
        "   - Replace missing numerical values with the mean (`fillna(df.mean())`), median (`fillna(df.median())`), or mode (`fillna(df.mode().iloc[0])`) of the respective column.\n",
        "\n",
        "6. **Group-wise Imputation:**\n",
        "   - Fill missing values based on groups within the data. For example, you can replace missing values in a column with the mean of that column within the group to which the data point belongs.\n",
        "\n",
        "7. **Machine Learning-based Imputation:**\n",
        "   - Use machine learning algorithms to predict missing values based on other features. Techniques like regression, k-nearest neighbors, or decision trees can be employed for this purpose.\n",
        "\n",
        "8. **Time-Series Specific Imputation:**\n",
        "   - For time-series data, methods like forward fill, backward fill, or interpolation may be suitable. Alternatively, you can use more advanced techniques like seasonal decomposition or ARIMA modeling to impute missing values.\n",
        "\n",
        "9. **Random Imputation:**\n",
        "   - Replace missing values with random values drawn from the same distribution as the non-missing values in the column. This method can help maintain the original distribution.\n",
        "\n",
        "10. **Multiple Imputation:**\n",
        "    - Generate multiple imputed datasets, each with different imputed values, to account for uncertainty in the imputation process. Techniques like MICE (Multivariate Imputation by Chained Equations) are used for this purpose.\n",
        "\n",
        "11. **Custom Function Imputation:**\n",
        "    - Implement custom imputation strategies based on domain knowledge or specific requirements of your dataset. You can use a custom function with `apply()` to replace missing values.\n",
        "\n",
        "12. **Nearest Neighbor Imputation:**\n",
        "    - Replace missing values with values from the nearest neighbors in the feature space. This can be done using libraries like scikit-learn's `KNeighborsImputer`.\n",
        "\n",
        "13. **Deep Learning-based Imputation:**\n",
        "    - For complex data with sequential or structural dependencies, deep learning models like Recurrent Neural Networks (RNNs) or Transformers can be used to impute missing values.\n",
        "\n",
        "The choice of method depends on the nature of your data, the underlying patterns, and the goals of your analysis. It's often a good practice to explore the data, understand the reasons for missingness, and choose an appropriate imputation method accordingly."
      ],
      "metadata": {
        "id": "kcfXP0SAibZz"
      }
    },
    {
      "cell_type": "markdown",
      "source": [
        "---------\n",
        "\n",
        "Connect with the author of this Notebook Rocky Jagtiani - [here](https://www.linkedin.com/in/rocky-jagtiani-3b390649/)\n",
        "\n",
        "-------"
      ],
      "metadata": {
        "id": "UutwsUgAqmoK"
      }
    },
    {
      "cell_type": "markdown",
      "source": [
        "## Code Examples\n",
        "\n",
        "#### interpolate(method='linear')"
      ],
      "metadata": {
        "id": "_JWvrxyCi5DZ"
      }
    },
    {
      "cell_type": "code",
      "execution_count": null,
      "metadata": {
        "colab": {
          "base_uri": "https://localhost:8080/"
        },
        "id": "U1fX6HULiBmQ",
        "outputId": "2a31d4fd-f194-4e4b-99f0-26fe6498c2f3"
      },
      "outputs": [
        {
          "output_type": "stream",
          "name": "stdout",
          "text": [
            "Original DataFrame:\n",
            "        Date  Temperature\n",
            "0 2023-01-01         32.5\n",
            "1 2023-01-02         34.0\n",
            "2 2023-01-03          NaN\n",
            "3 2023-01-04         36.2\n",
            "4 2023-01-05          NaN\n",
            "5 2023-01-06         38.9\n",
            "6 2023-01-07         40.1\n",
            "7 2023-01-08          NaN\n",
            "8 2023-01-09         42.3\n",
            "9 2023-01-10         43.5\n",
            "\n",
            "DataFrame with Missing Values Filled using Linear Interpolation:\n",
            "        Date  Temperature\n",
            "0 2023-01-01        32.50\n",
            "1 2023-01-02        34.00\n",
            "2 2023-01-03        35.10\n",
            "3 2023-01-04        36.20\n",
            "4 2023-01-05        37.55\n",
            "5 2023-01-06        38.90\n",
            "6 2023-01-07        40.10\n",
            "7 2023-01-08        41.20\n",
            "8 2023-01-09        42.30\n",
            "9 2023-01-10        43.50\n"
          ]
        }
      ],
      "source": [
        "import pandas as pd\n",
        "import numpy as np\n",
        "\n",
        "# Creating a synthetic DataFrame with missing values\n",
        "data = {'Date': pd.date_range(start='2023-01-01', periods=10, freq='D'),\n",
        "        'Temperature': [32.5, 34.0, np.nan, 36.2, np.nan, 38.9, 40.1, np.nan, 42.3, 43.5]}\n",
        "df = pd.DataFrame(data)\n",
        "\n",
        "# Display the original DataFrame\n",
        "print(\"Original DataFrame:\")\n",
        "print(df)\n",
        "\n",
        "# Interpolate missing values using linear interpolation\n",
        "df['Temperature'] = df['Temperature'].interpolate(method='linear')\n",
        "\n",
        "# Display the DataFrame with missing values filled using interpolation\n",
        "print(\"\\nDataFrame with Missing Values Filled using Linear Interpolation:\")\n",
        "print(df)\n"
      ]
    },
    {
      "cell_type": "markdown",
      "source": [
        "### group-wise imputation\n",
        "\n",
        "Python code example that demonstrates how to perform group-wise imputation by replacing missing values with the mean of each group:"
      ],
      "metadata": {
        "id": "JqYc1xQ8jlgx"
      }
    },
    {
      "cell_type": "code",
      "source": [
        "import pandas as pd\n",
        "import numpy as np\n",
        "\n",
        "# Creating a synthetic DataFrame with missing values\n",
        "data = {'Category': ['A', 'B', 'A', 'B', 'A', 'B', 'A', 'B'],\n",
        "        'Value': [10, 20, np.nan, 25, 15, np.nan, 18, 30]}\n",
        "df = pd.DataFrame(data)\n",
        "\n",
        "# Display the original DataFrame\n",
        "print(\"Original DataFrame:\")\n",
        "print(df)\n",
        "\n",
        "# Group-wise imputation: Fill missing values with the mean of each group\n",
        "df['Value'] = df.groupby('Category')['Value'].transform(lambda x: x.fillna(x.mean()))\n",
        "\n",
        "# Display the DataFrame with missing values filled using group-wise imputation\n",
        "print(\"\\nDataFrame with Missing Values Filled using Group-wise Imputation:\")\n",
        "print(df)"
      ],
      "metadata": {
        "colab": {
          "base_uri": "https://localhost:8080/"
        },
        "id": "LLGff7sAjTZA",
        "outputId": "dae241a9-3bd7-4686-e7cf-ee2c05a09074"
      },
      "execution_count": null,
      "outputs": [
        {
          "output_type": "stream",
          "name": "stdout",
          "text": [
            "Original DataFrame:\n",
            "  Category  Value\n",
            "0        A   10.0\n",
            "1        B   20.0\n",
            "2        A    NaN\n",
            "3        B   25.0\n",
            "4        A   15.0\n",
            "5        B    NaN\n",
            "6        A   18.0\n",
            "7        B   30.0\n",
            "\n",
            "DataFrame with Missing Values Filled using Group-wise Imputation:\n",
            "  Category      Value\n",
            "0        A  10.000000\n",
            "1        B  20.000000\n",
            "2        A  14.333333\n",
            "3        B  25.000000\n",
            "4        A  15.000000\n",
            "5        B  25.000000\n",
            "6        A  18.000000\n",
            "7        B  30.000000\n"
          ]
        }
      ]
    },
    {
      "cell_type": "markdown",
      "source": [
        "\n",
        "In above code block :\n",
        "\n",
        "1. We create a synthetic DataFrame with two columns: `'Category'` and `'Value'`. The `'Value'` column intentionally contains missing values (`np.nan`).\n",
        "\n",
        "2. We use the `groupby()` method to group the DataFrame by the `'Category'` column.\n",
        "\n",
        "3. We then apply the `transform()` method on the grouped data to fill missing values in the `'Value'` column within each group with the mean of that group. The lambda function `lambda x: x.fillna(x.mean())` is used for this purpose.\n",
        "\n",
        "4. Finally, we display both the original DataFrame with missing values and the DataFrame with missing values filled using group-wise imputation. The missing values in the `'Value'` column have been replaced with the group-wise means."
      ],
      "metadata": {
        "id": "ktL5AAXdkd4C"
      }
    },
    {
      "cell_type": "markdown",
      "source": [
        "## Machine learning-based imputation\n",
        "\n",
        "Python code example that demonstrates how to perform machine learning-based imputation to replace missing values using a simple linear regression model:"
      ],
      "metadata": {
        "id": "JafGnMaykroN"
      }
    },
    {
      "cell_type": "code",
      "source": [
        "import pandas as pd\n",
        "import numpy as np\n",
        "from sklearn.linear_model import LinearRegression\n",
        "\n",
        "# Creating a synthetic DataFrame with missing values\n",
        "data = {'Feature1': [1, 2, 3, 4, 5, np.nan, 7, 8, 9, 10],\n",
        "        'Target': [2, 7, 5, 18, 9, 11, 13, 6, 17, 20]}\n",
        "df = pd.DataFrame(data)\n",
        "\n",
        "# Split the DataFrame into two parts: one with missing values and one without\n",
        "df_missing = df[df['Feature1'].isnull()]\n",
        "df_not_missing = df[~df['Feature1'].isnull()]\n",
        "\n",
        "# Separate the features and target variable\n",
        "X_train = df_not_missing[['Target']]\n",
        "y_train = df_not_missing['Feature1']\n",
        "X_test = df_missing[['Target']]\n",
        "\n",
        "# Create a linear regression model\n",
        "model = LinearRegression()\n",
        "\n",
        "# Fit the model on the available data\n",
        "model.fit(X_train, y_train)\n",
        "\n",
        "# Predict missing values using the trained model\n",
        "imputed_values = model.predict(X_test)\n",
        "\n",
        "# Replace missing values in the DataFrame with the predicted values\n",
        "df.loc[df['Feature1'].isnull(), 'Feature1'] = imputed_values\n",
        "\n",
        "# Display the DataFrame with missing values filled using machine learning-based imputation\n",
        "print(\"DataFrame with Missing Values Filled using Machine Learning-based Imputation:\")\n",
        "print(df)"
      ],
      "metadata": {
        "colab": {
          "base_uri": "https://localhost:8080/"
        },
        "id": "gisS7GXOkBlZ",
        "outputId": "9bc272cf-c2bd-4f8e-d610-5b74f483b6f5"
      },
      "execution_count": null,
      "outputs": [
        {
          "output_type": "stream",
          "name": "stdout",
          "text": [
            "DataFrame with Missing Values Filled using Machine Learning-based Imputation:\n",
            "    Feature1  Target\n",
            "0   1.000000       2\n",
            "1   2.000000       7\n",
            "2   3.000000       5\n",
            "3   4.000000      18\n",
            "4   5.000000       9\n",
            "5   5.519437      11\n",
            "6   7.000000      13\n",
            "7   8.000000       6\n",
            "8   9.000000      17\n",
            "9  10.000000      20\n"
          ]
        }
      ]
    },
    {
      "cell_type": "markdown",
      "source": [
        "In the above code block :\n",
        "\n",
        "1. We create a synthetic DataFrame with two columns: `'Feature1'` and `'Target'`. The `'Feature1'` column contains missing values (`np.nan`), which we want to impute using a machine learning-based approach.\n",
        "\n",
        "2. We split the DataFrame into two parts: one with missing values (`df_missing`) and one without missing values (`df_not_missing`).\n",
        "\n",
        "3. We separate the features (`'Target'`) and the target variable (`'Feature1'`) from the available data.\n",
        "\n",
        "4. We create a linear regression model and fit it on the available data, where `'Target'` is the feature and `'Feature1'` is the target variable.\n",
        "\n",
        "5. We predict the missing values in the `'Feature1'` column using the trained linear regression model based on the values in the `'Target'` column.\n",
        "\n",
        "6. Finally, we replace the missing values in the original DataFrame with the predicted values, resulting in a DataFrame with missing values filled using machine learning-based imputation."
      ],
      "metadata": {
        "id": "QEH21lidlH-b"
      }
    },
    {
      "cell_type": "markdown",
      "source": [
        "## Random imputation\n",
        "\n",
        "Python code example that demonstrates how to perform random imputation to replace missing values with random values drawn from the same distribution as the non-missing values in the DataFrame:\n"
      ],
      "metadata": {
        "id": "dPjPQbK1l0tx"
      }
    },
    {
      "cell_type": "code",
      "source": [
        "import pandas as pd\n",
        "import numpy as np\n",
        "\n",
        "# Creating a synthetic DataFrame with missing values\n",
        "data = {'Feature1': [1, 2, 3, np.nan, 5, np.nan, 7, 8, 9, 10]}\n",
        "df = pd.DataFrame(data)\n",
        "\n",
        "# Display the original DataFrame\n",
        "print(\"Original DataFrame:\")\n",
        "print(df)\n",
        "\n",
        "# Random imputation: Replace missing values with random values from the same distribution\n",
        "non_missing_values = df['Feature1'].dropna()\n",
        "missing_indices = df[df['Feature1'].isnull()].index\n",
        "random_imputed_values = np.random.choice(non_missing_values, len(missing_indices))\n",
        "print(\"--------------------\")\n",
        "print(random_imputed_values)\n",
        "print(\"--------------------\")\n",
        "\n",
        "# Update the DataFrame with the random imputed values\n",
        "df.loc[df['Feature1'].isnull(), 'Feature1'] = random_imputed_values\n",
        "\n",
        "# Display the DataFrame with missing values filled using random imputation\n",
        "print(\"\\nDataFrame with Missing Values Filled using Random Imputation:\")\n",
        "print(df)"
      ],
      "metadata": {
        "id": "qT8r2pCik36B",
        "colab": {
          "base_uri": "https://localhost:8080/"
        },
        "outputId": "ff04d9eb-1307-4240-c498-52f683f748e9"
      },
      "execution_count": null,
      "outputs": [
        {
          "output_type": "stream",
          "name": "stdout",
          "text": [
            "Original DataFrame:\n",
            "   Feature1\n",
            "0       1.0\n",
            "1       2.0\n",
            "2       3.0\n",
            "3       NaN\n",
            "4       5.0\n",
            "5       NaN\n",
            "6       7.0\n",
            "7       8.0\n",
            "8       9.0\n",
            "9      10.0\n",
            "--------------------\n",
            "[2. 3.]\n",
            "--------------------\n",
            "\n",
            "DataFrame with Missing Values Filled using Random Imputation:\n",
            "   Feature1\n",
            "0       1.0\n",
            "1       2.0\n",
            "2       3.0\n",
            "3       2.0\n",
            "4       5.0\n",
            "5       3.0\n",
            "6       7.0\n",
            "7       8.0\n",
            "8       9.0\n",
            "9      10.0\n"
          ]
        }
      ]
    },
    {
      "cell_type": "markdown",
      "source": [
        "In the above code block :\n",
        "\n",
        "1. We create a synthetic DataFrame with a column named `'Feature1'`, which intentionally contains missing values (`np.nan`).\n",
        "\n",
        "2. We extract the non-missing values from the `'Feature1'` column and store them in the `non_missing_values` variable.\n",
        "\n",
        "3. We identify the indices of the missing values in the DataFrame using `df[df['Feature1'].isnull()].index`.\n",
        "\n",
        "4. We generate random imputed values using `np.random.choice(non_missing_values, len(missing_indices))`, where we randomly select values from the `non_missing_values` array to replace the missing values.\n",
        "\n",
        "5. Finally, we update the original DataFrame with the random imputed values, resulting in a DataFrame with missing values filled using random imputation."
      ],
      "metadata": {
        "id": "XZtMGx-ynd3E"
      }
    },
    {
      "cell_type": "markdown",
      "source": [
        "### Nearest Neighbor Imputation:\n",
        "Replace missing values with values from the nearest neighbors in the feature space. This can be done using libraries like scikit-learn's `KNeighborsImputer`."
      ],
      "metadata": {
        "id": "9cOs3pVvcUgH"
      }
    },
    {
      "cell_type": "code",
      "source": [
        "import pandas as pd\n",
        "import numpy as np\n",
        "import matplotlib.pyplot as plt\n",
        "from sklearn.impute import KNNImputer\n",
        "from sklearn.datasets import make_blobs\n",
        "\n",
        "# Create a synthetic dataset with missing values\n",
        "X, _ = make_blobs(n_samples=100, centers=2, random_state=42)\n",
        "X_with_missing = X.copy()\n",
        "missing_mask = np.random.rand(X.shape[0], X.shape[1]) < 0.2  # Create missing data mask\n",
        "X_with_missing[missing_mask] = np.nan\n",
        "\n",
        "# Create a DataFrame from the synthetic dataset\n",
        "df = pd.DataFrame(X_with_missing, columns=[\"Feature1\", \"Feature2\"])\n",
        "\n",
        "# Plot the original data\n",
        "plt.figure(figsize=(12, 4))\n",
        "plt.subplot(1, 2, 1)\n",
        "plt.scatter(X[:, 0], X[:, 1], c='blue', marker='o', label='Original Data')\n",
        "plt.title('Original Data')\n",
        "\n",
        "# Nearest Neighbor Imputation\n",
        "imputer = KNNImputer(n_neighbors=5)\n",
        "X_imputed = imputer.fit_transform(X_with_missing)\n",
        "\n",
        "# Create a DataFrame from the imputed dataset\n",
        "df_imputed = pd.DataFrame(X_imputed, columns=[\"Feature1\", \"Feature2\"])\n",
        "\n",
        "# Plot the imputed data\n",
        "plt.subplot(1, 2, 2)\n",
        "plt.scatter(X_imputed[:, 0], X_imputed[:, 1], c='green', marker='x', label='Imputed Data')\n",
        "plt.title('Imputed Data')\n",
        "\n",
        "plt.tight_layout()\n",
        "plt.legend()\n",
        "plt.show()\n",
        "\n",
        "# Display the DataFrame with missing values filled using nearest neighbor imputation\n",
        "print(\"\\nDataFrame with Missing Values Filled using Nearest Neighbor Imputation:\")\n",
        "print(df_imputed)"
      ],
      "metadata": {
        "colab": {
          "base_uri": "https://localhost:8080/",
          "height": 684
        },
        "id": "ru2_CgOanJ19",
        "outputId": "af601f94-2777-48de-c21f-aae21a7417a3"
      },
      "execution_count": null,
      "outputs": [
        {
          "output_type": "display_data",
          "data": {
            "text/plain": [
              "<Figure size 1200x400 with 2 Axes>"
            ],
            "image/png": "[encoded data removed]"
          },
          "metadata": {}
        },
        {
          "output_type": "stream",
          "name": "stdout",
          "text": [
            "\n",
            "DataFrame with Missing Values Filled using Nearest Neighbor Imputation:\n",
            "    Feature1  Feature2\n",
            "0  -2.988372  8.828627\n",
            "1   5.722930  3.026972\n",
            "2  -3.053580  9.465630\n",
            "3   5.461939  3.869963\n",
            "4   4.867339  3.280312\n",
            "..       ...       ...\n",
            "95 -2.959218  9.945566\n",
            "96 -1.593796  9.343037\n",
            "97  3.793085  0.458322\n",
            "98 -2.728870  9.371399\n",
            "99 -2.983247  8.779699\n",
            "\n",
            "[100 rows x 2 columns]\n"
          ]
        }
      ]
    },
    {
      "cell_type": "markdown",
      "source": [
        "**Explaination to key point in the above code :**\n",
        "\n",
        "The line `np.random.rand(X.shape[0], X.shape[1]) < 0.2` generates a binary mask where elements are either `True` or `False`. Let's break down what this line does:\n",
        "\n",
        "1. `X.shape[0]` returns the number of rows (samples) in the array `X`, and `X.shape[1]` returns the number of columns (features) in the array `X`. In your code, `X` represents your synthetic dataset.\n",
        "\n",
        "2. `np.random.rand(X.shape[0], X.shape[1])` generates a random array of shape `(X.shape[0], X.shape[1])`. This array contains random values uniformly distributed between 0 and 1. Each element of this array corresponds to a random number.\n",
        "\n",
        "3. `< 0.2` is a comparison operation that checks if each element in the random array is less than 0.2. It returns a Boolean array of the same shape as the random array, where each element is `True` if the corresponding element in the random array is less than 0.2, and `False` otherwise.\n",
        "\n",
        "In the context of your code, this line is used to create a binary mask (`True` or `False`) where `True` values represent missing data points, and `False` values represent non-missing data points. The probability of an element being `True` (indicating a missing value) is 0.2, which means roughly 20% of the data points will be missing values based on this random mask. This mimics the introduction of missing values in your synthetic dataset for demonstration purposes.\n",
        "\n",
        "\n",
        "\n",
        "#### Quick note about `make_blobs` function\n",
        "\n",
        "The `make_blobs` function is a utility function provided by the scikit-learn library in Python. It is used to generate synthetic datasets for clustering and classification tasks. This function is often used for testing and prototyping machine learning algorithms when you need sample data with known properties.\n",
        "\n",
        "Here's how the `make_blobs` function works:\n",
        "\n",
        "1. **Data Generation:** It generates a specified number of clusters (blobs) of data points in a multi-dimensional space.\n",
        "\n",
        "2. **Cluster Centers:** You can specify the centers of the clusters using the `centers` parameter. Each center represents a cluster's centroid.\n",
        "\n",
        "3. **Cluster Standard Deviation:** The `cluster_std` parameter allows you to control the standard deviation of each cluster. It influences the spread of data points within each cluster.\n",
        "\n",
        "4. **Data Distribution:** The function generates data points randomly around each cluster center, following a normal (Gaussian) distribution.\n",
        "\n",
        "5. **Data Labels:** It assigns labels to the generated data points, indicating to which cluster each data point belongs. This is useful for supervised learning tasks or evaluating clustering algorithms.\n",
        "\n",
        "Here's a simple example of how to use `make_blobs` to generate a synthetic dataset:\n",
        "\n",
        "```python\n",
        "from sklearn.datasets import make_blobs\n",
        "\n",
        "# Generate a synthetic dataset with three clusters\n",
        "X, y = make_blobs(n_samples=300, centers=3, cluster_std=1.0, random_state=42)\n",
        "```\n",
        "\n",
        "In this example:\n",
        "\n",
        "- `n_samples`: Specifies the total number of data points to generate.\n",
        "- `centers`: Determines the number of clusters and their positions.\n",
        "- `cluster_std`: Controls the spread of data points within each cluster.\n",
        "- `random_state`: Sets the random seed for reproducibility.\n",
        "\n",
        "After running this code, `X` will contain the generated data points, and `y` will contain the corresponding labels indicating the cluster membership of each data point.\n",
        "\n",
        "`make_blobs` is a convenient tool for creating synthetic datasets for various machine learning tasks, such as clustering, classification, and visualization, when you need control over the data's characteristics."
      ],
      "metadata": {
        "id": "__YZfuqmpx6G"
      }
    },
    {
      "cell_type": "markdown",
      "source": [
        "---------\n",
        "\n",
        "Connect with the author of this Notebook Rocky Jagtiani - [here](https://www.linkedin.com/in/rocky-jagtiani-3b390649/)\n",
        "\n",
        "-------"
      ],
      "metadata": {
        "id": "OjpSqhbSqzW6"
      }
    },
    {
      "cell_type": "markdown",
      "source": [
        "## FAQ - How do I handle unclean data ?\n",
        "\n",
        "Handling unclean data involves addressing various data quality issues, such as errors, inconsistencies, outliers, and noise, to prepare the data for meaningful analysis and modeling. Here are some common techniques and steps for handling unclean data:\n",
        "\n",
        "1. **Data Cleaning:**\n",
        "   - **Remove Duplicates:** Identify and remove duplicate records from the dataset using methods like `duplicated()` and `drop_duplicates()`.\n",
        "   - **Handling Missing Values:** As you've learned before, fill or impute missing values using appropriate techniques.\n",
        "   - **Outlier Detection and Treatment:** Identify and handle outliers that can distort analysis. You can use statistical methods or visualization techniques to spot outliers and decide whether to remove them or transform them.\n",
        "\n",
        "2. **Data Transformation:**\n",
        "   - **Normalization/Scaling:** Scale numerical features to have a consistent scale (e.g., using Min-Max scaling or Standardization) to ensure that no feature dominates the model's learning process.\n",
        "   - **Encoding Categorical Data:** Convert categorical variables into numerical format using techniques like one-hot encoding or label encoding.\n",
        "   - **Feature Engineering:** Create new features or transform existing ones to capture relevant information or relationships in the data.\n",
        "\n",
        "3. **Data Integration:**\n",
        "   - **Combine Data Sources:** If working with multiple datasets, integrate them into a single dataset by matching and merging records based on common keys.\n",
        "\n",
        "4. **Handling Inconsistent Data:**\n",
        "   - **Data Type Conversion:** Ensure that data types are consistent and appropriate for the type of analysis you intend to perform.\n",
        "   - **Addressing Data Entry Errors:** Correct or impute data entry errors, such as typos or inconsistent formatting.\n",
        "   - **Standardization:** Standardize data values, such as dates or units of measurement, to ensure consistency.\n",
        "\n",
        "5. **Handling Noisy Data:**\n",
        "   - **Smoothing:** Apply smoothing techniques, such as moving averages, to reduce noise in time series data.\n",
        "   - **Data Binning:** Aggregate data into bins or categories to reduce the impact of noisy data points.\n",
        "\n",
        "6. **Data Validation and Verification:**\n",
        "   - **Cross-Validation:** Use cross-validation techniques to assess the reliability of the data and the model's performance.\n",
        "   - **Data Profiling:** Conduct data profiling to identify patterns and inconsistencies in the data.\n",
        "   - **External Validation:** If possible, validate the data with external sources to ensure accuracy.\n",
        "\n",
        "7. **Exploratory Data Analysis (EDA):**\n",
        "   - Conduct thorough exploratory data analysis to visualize and understand data patterns, relationships, and potential issues.\n",
        "\n",
        "8. **Documentation and Metadata:**\n",
        "   - Maintain proper documentation and metadata to keep track of data sources, transformations, and any changes made to the dataset.\n",
        "\n",
        "9. **Data Quality Frameworks:**\n",
        "   - Consider using data quality frameworks and tools that can automate some aspects of data cleaning and provide data quality metrics.\n",
        "\n",
        "10. **Domain Knowledge:**\n",
        "    - Leverage domain knowledge to identify and address data issues that may not be apparent through automated methods.\n",
        "\n",
        "11. **Iterative Process:**\n",
        "    - Data cleaning and preparation are often iterative processes. You may need to revisit and refine these steps as you gain more insights from your analysis.\n",
        "\n",
        "Handling unclean data is a critical part of the data preprocessing pipeline, and it directly impacts the quality and reliability of your machine learning models and data analysis results. The specific techniques and steps you need to take will depend on the nature of the data and the goals of your analysis."
      ],
      "metadata": {
        "id": "6VOoFWEarwdM"
      }
    }
  ]
}