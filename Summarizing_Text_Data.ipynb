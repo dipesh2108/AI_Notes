{
  "cells": [
    {
      "cell_type": "markdown",
      "metadata": {
        "id": "view-in-github",
        "colab_type": "text"
      },
      "source": [
        "<a href=\"https://colab.research.google.com/github/dipesh2108/AI_Notes/blob/main/Summarizing_Text_Data.ipynb\" target=\"_parent\"><img src=\"https://colab.research.google.com/assets/colab-badge.svg\" alt=\"Open In Colab\"/></a>"
      ]
    },
    {
      "cell_type": "markdown",
      "metadata": {
        "id": "7UC9eIDOXhHJ"
      },
      "source": [
        "Summarizing Text Data\n",
        "--\n",
        "If you just look around, there are lots of articles and books available. Let’s\n",
        "assume you want to learn a concept in NLP and if you Google it, you will\n",
        "find an article. You like the content of the article, but it’s too long to read\n",
        "it one more time. You want to basically summarize the article and save it\n",
        "somewhere so that you can read it later.\n",
        "\n",
        "Well, NLP has a solution for that. Text summarization will help us do\n",
        "that. You don’t have to read the full article or book every time."
      ]
    },
    {
      "cell_type": "code",
      "source": [],
      "metadata": {
        "id": "7AyWlbV4QRVR"
      },
      "execution_count": null,
      "outputs": []
    },
    {
      "cell_type": "markdown",
      "metadata": {
        "id": "r95t6-27XhHU"
      },
      "source": [
        "Problem\n",
        "--\n",
        "Text summarization of article/document using different algorithms in Python.\n",
        "\n",
        "Solution\n",
        "--\n",
        "Text summarization is the process of making large documents into smaller\n",
        "ones without losing the context, which eventually saves readers time. This\n",
        "can be done using different techniques like the following:\n",
        "\n",
        "• TextRank: A graph-based ranking algorithm <br>\n",
        "**Video 1** : https://www.youtube.com/watch?v=PNHB6OuFv7I\n",
        "<br>\n",
        "**Video 2 :** TextRank is based on PageRank : <b>Watch <a href=\"https://drive.google.com/open?id=1LIepskEND-1FuvfEkgEj1wFgTV6uHNlv\">this</a></b>\n",
        "\n",
        "• Feature-based text summarization\n",
        "\n",
        "• LexRank: TF-IDF with a graph-based algorithm\n",
        "\n",
        "• Topic based\n",
        "\n",
        "• Using sentence embeddings\n",
        "\n",
        "• Encoder-Decoder Model: Deep learning techniques"
      ]
    },
    {
      "cell_type": "code",
      "source": [
        "!pip install gensim"
      ],
      "metadata": {
        "colab": {
          "base_uri": "https://localhost:8080/"
        },
        "id": "32MHuVcSZ-28",
        "outputId": "25b4a59a-c2d6-4b70-a170-abf0c70960b7"
      },
      "execution_count": null,
      "outputs": [
        {
          "output_type": "stream",
          "name": "stdout",
          "text": [
            "Requirement already satisfied: gensim in /usr/local/lib/python3.10/dist-packages (4.3.2)\n",
            "Requirement already satisfied: numpy>=1.18.5 in /usr/local/lib/python3.10/dist-packages (from gensim) (1.25.2)\n",
            "Requirement already satisfied: scipy>=1.7.0 in /usr/local/lib/python3.10/dist-packages (from gensim) (1.11.4)\n",
            "Requirement already satisfied: smart-open>=1.8.1 in /usr/local/lib/python3.10/dist-packages (from gensim) (6.4.0)\n"
          ]
        }
      ]
    },
    {
      "cell_type": "code",
      "source": [
        "!pip show gensim"
      ],
      "metadata": {
        "colab": {
          "base_uri": "https://localhost:8080/"
        },
        "id": "2WeCtpjcavLH",
        "outputId": "24370511-d5c7-49cc-841f-18997a2ccb4f"
      },
      "execution_count": null,
      "outputs": [
        {
          "output_type": "stream",
          "name": "stdout",
          "text": [
            "Name: gensim\n",
            "Version: 4.3.2\n",
            "Summary: Python framework for fast Vector Space Modelling\n",
            "Home-page: https://radimrehurek.com/gensim/\n",
            "Author: Radim Rehurek\n",
            "Author-email: me@radimrehurek.com\n",
            "License: LGPL-2.1-only\n",
            "Location: /usr/local/lib/python3.10/dist-packages\n",
            "Requires: numpy, scipy, smart-open\n",
            "Required-by: \n"
          ]
        }
      ]
    },
    {
      "cell_type": "code",
      "source": [
        "ls /usr/local/lib/python3.10/dist-packages/gensim"
      ],
      "metadata": {
        "colab": {
          "base_uri": "https://localhost:8080/"
        },
        "id": "ChLcyKMObYnU",
        "outputId": "fc61ece4-c4e0-4b0a-8c9e-5e05a4e75a2c"
      },
      "execution_count": null,
      "outputs": [
        {
          "output_type": "stream",
          "name": "stdout",
          "text": [
            "\u001b[0m\u001b[01;34mcorpora\u001b[0m/       _matutils.c                                 \u001b[01;34mmodels\u001b[0m/       \u001b[01;34mscripts\u001b[0m/          utils.py\n",
            "downloader.py  \u001b[01;32m_matutils.cpython-310-x86_64-linux-gnu.so\u001b[0m*  nosy.py       \u001b[01;34msimilarities\u001b[0m/\n",
            "__init__.py    matutils.py                                 \u001b[01;34mparsing\u001b[0m/      \u001b[01;34mtest\u001b[0m/\n",
            "interfaces.py  _matutils.pyx                               \u001b[01;34m__pycache__\u001b[0m/  \u001b[01;34mtopic_coherence\u001b[0m/\n"
          ]
        }
      ]
    },
    {
      "cell_type": "markdown",
      "metadata": {
        "id": "HKyrb1-CXhHf"
      },
      "source": [
        "## What is gensim ?\n",
        "\n",
        "**`Gensim = “Generate Similar”`** is a popular open source NLP library used for unsupervised topic modeling. It uses top academic models and modern statistical machine learning to perform various complex tasks such as −\n",
        "\n",
        "1. Building document or word vectors\n",
        "2. Corpora\n",
        "3. Performing topic identification\n",
        "4. Performing document comparison (retrieving semantically similar documents)\n",
        "5. Analysing plain-text documents for semantic structure\n",
        "\n",
        "Apart from performing the above complex tasks, Gensim, `implemented in Python and Cython`, is designed to handle large text collections using data streaming as well as incremental online algorithms. *This makes it different from those machine learning software packages that target only in-memory processing.*\n",
        "\n",
        "> `Note` : One significant advantage with gensim is: it lets you handle large text files **without having to load the entire file in memory**."
      ]
    },
    {
      "cell_type": "code",
      "execution_count": null,
      "metadata": {
        "id": "ORyGagnVXhHY",
        "outputId": "cc57e1c6-870e-4994-ffb9-0fa7b4e7a832",
        "colab": {
          "base_uri": "https://localhost:8080/"
        }
      },
      "outputs": [
        {
          "output_type": "stream",
          "name": "stdout",
          "text": [
            "7945\n",
            "('Natural language processing - Wikipedia', 'Natural language processing (NLP) is an interdisciplinary subfield of computer science and linguistics. It is primarily concerned with giving computers the ability to support and manipulate human language. It involves processing natural language datasets, such as text corpora or speech corpora, using either rule-based or probabilistic (i.e. statistical and, most recently, neural network-based) machine learning approaches. The goal is a computer capable of \"understanding\" the contents of documents, including the contextual nuances of the language within them. The technology can then accurately extract information and insights contained in the documents as well as categorize and organize the documents themselves.\\n Challenges in natural language processing frequently involve speech recognition, natural-language understanding, and natural-language generation.\\n Natural language processing has its roots in the 1940s.[1] Already in 1940, Alan Turing published an article titled \"Computing Machinery and Intelligence\" which proposed what is now called the Turing test as a criterion of intelligence, though at the time that was not articulated as a problem separate from artificial intelligence. The proposed test includes a task that involves the automated interpretation and generation of natural language.\\n The premise of symbolic NLP is well-summarized by John Searle\\'s Chinese room experiment: Given a collection of rules (e.g., a Chinese phrasebook, with questions and matching answers), the computer emulates natural language understanding (or other NLP tasks) by applying those rules to the data it confronts.\\n Up until the 1980s, most natural language processing systems were based on complex sets of hand-written rules.  Starting in the late 1980s, however, there was a revolution in natural language processing with the introduction of machine learning algorithms for language processing.  This was due to both the steady increase in computational power (see Moore\\'s law) and the gradual lessening of the dominance of Chomskyan theories of linguistics (e.g. transformational grammar), whose theoretical underpinnings discouraged the sort of corpus linguistics that underlies the machine-learning approach to language processing.[8]\\n In 2003, word n-gram model, at the time the best statistical algorithm, was overperformed by a multi-layer perceptron (with a single hidden layer and context length of several words trained on up to 14 million of words with a CPU cluster in language modelling) by Yoshua Bengio with co-authors.[9]\\n In 2010, Tomáš Mikolov (then a PhD student at Brno University of Technology) with co-authors applied a simple recurrent neural network with a single hidden layer to language modelling,[10] and in the following years he went on to develop Word2vec. In the 2010s, representation learning and deep neural network-style (featuring many hidden layers) machine learning methods became widespread in natural language processing. That popularity was due partly to a flurry of results showing that such techniques[11][12] can achieve state-of-the-art results in many natural language tasks, e.g., in language modeling[13] and parsing.[14][15] This is increasingly important in medicine and healthcare, where NLP helps analyze notes and text in electronic health records that would otherwise be inaccessible for study when seeking to improve care[16] or protect patient privacy.[17]\\n \\n Symbolic approach, i.e., the hand-coding of a set of rules for manipulating symbols, coupled with a dictionary lookup, was historically the first approach used both by AI in general and by NLP in particular:[18][19] such as by writing grammars or devising heuristic rules for stemming.\\n Machine learning approaches, which include both statistical and neural networks, on the other hand, have many advantages over the symbolic approach: \\n Although rule-based systems for manipulating symbols were still in use in 2020, they have become mostly obsolete with the advance of LLMs in 2023. \\n Before that they were commonly used:\\n In the late 1980s and mid-1990s, the statistical approach ended a period of AI winter, which was caused by the inefficiencies of the rule-based approaches.[20][21]\\n The earliest decision trees, producing systems of hard if–then rules, were still very similar to the old rule-based approaches.\\nOnly the introduction of hidden Markov models, applied to part-of-speech tagging, announced the end of the old rule-based approach.\\n A major drawback of statistical methods is that they require elaborate feature engineering. Since 2015,[22] the statistical approach was replaced by the neural networks approach, using word embeddings to capture semantic properties of words. \\n Intermediate tasks (e.g., part-of-speech tagging and dependency parsing) have not been needed anymore. \\n Neural machine translation, based on then-newly-invented sequence-to-sequence transformations, made obsolete the intermediate steps, such as word alignment, previously necessary for statistical machine translation.\\n The following is a list of some of the most commonly researched tasks in natural language processing. Some of these tasks have direct real-world applications, while others more commonly serve as subtasks that are used to aid in solving larger tasks.\\n Though natural language processing tasks are closely intertwined, they can be subdivided into categories for convenience. A coarse division is given below.\\n Based on long-standing trends in the field, it is possible to extrapolate future directions of NLP. As of 2020, three trends among the topics of the long-standing series of CoNLL Shared Tasks can be observed:[44]\\n Most higher-level NLP applications involve aspects that emulate intelligent behaviour and apparent comprehension of natural language. More broadly speaking, the technical operationalization of increasingly advanced aspects of cognitive behaviour represents one of the developmental trajectories of NLP (see trends among CoNLL shared tasks above).\\n Cognition refers to \"the mental action or process of acquiring knowledge and understanding through thought, experience, and the senses.\"[45] Cognitive science is the interdisciplinary, scientific study of the mind and its processes.[46] Cognitive linguistics is an interdisciplinary branch of linguistics, combining knowledge and research from both psychology and linguistics.[47] Especially during the age of symbolic NLP, the area of computational linguistics maintained strong ties with cognitive studies.\\n As an example, George Lakoff offers a methodology to build natural language processing (NLP) algorithms through the perspective of cognitive science, along with the findings of cognitive linguistics,[48] with two defining aspects:\\n Ties with cognitive linguistics are part of the historical heritage of NLP, but they have been less frequently addressed since the statistical turn during the 1990s. Nevertheless, approaches to develop cognitive models towards technically operationalizable frameworks have been pursued in the context of various frameworks, e.g., of cognitive grammar,[51] functional grammar,[52] construction grammar,[53] computational psycholinguistics and cognitive neuroscience (e.g., ACT-R), however, with limited uptake in mainstream NLP (as measured by presence on major conferences[54] of the ACL). More recently, ideas of cognitive NLP have been revived as an approach to achieve explainability, e.g., under the notion of \"cognitive AI\".[55] Likewise, ideas of cognitive NLP are inherent to neural models multimodal NLP (although rarely made explicit)[56] and developments in artificial intelligence, specifically tools and technologies using large language model approaches[57] and new directions in artificial general intelligence based on the free energy principle[58] by British neuroscientist and theoretician at University College London Karl J. Friston.\\n')\n"
          ]
        }
      ],
      "source": [
        "# Import BeautifulSoup and urllib libraries to fetch data from Wikipedia.\n",
        "from bs4 import BeautifulSoup\n",
        "from urllib.request import urlopen\n",
        "\n",
        "# Function to get data from Wikipedia\n",
        "def get_only_text(url):\n",
        " page = urlopen(url)\n",
        " soup = BeautifulSoup(page)\n",
        " text = ' '.join(map(lambda p: p.text, soup.find_all('p')))\n",
        " return soup.title.text, text\n",
        "\n",
        "# Mention the Wikipedia url\n",
        "url=\"https://en.wikipedia.org/wiki/Natural_language_processing\"\n",
        "\n",
        "# Call the function created above\n",
        "fulltext = get_only_text(url)\n",
        "\n",
        "# Count the number of chars\n",
        "print(len(''.join(fulltext)))\n",
        "\n",
        "# printing the full Text.  Its a tuple of sentences.\n",
        "print(fulltext)"
      ]
    },
    {
      "cell_type": "code",
      "source": [
        "tuple_data = fulltext\n",
        "\n",
        "\n",
        "## This code iterates over each element in the tuple,\n",
        "## concatenates it to the result_sentence variable,\n",
        "## and adds a space after each element except the last one.\n",
        "result_sentence = ''\n",
        "for i in range(len(tuple_data)):\n",
        "    result_sentence += tuple_data[i]\n",
        "    if i != len(tuple_data) - 1:\n",
        "        result_sentence += ' '\n",
        "print(result_sentence)"
      ],
      "metadata": {
        "colab": {
          "base_uri": "https://localhost:8080/"
        },
        "id": "5UKyAKN8fXLv",
        "outputId": "0c3e91a8-445b-41ac-f1a1-939f88c694c9"
      },
      "execution_count": null,
      "outputs": [
        {
          "output_type": "stream",
          "name": "stdout",
          "text": [
            "Natural language processing - Wikipedia Natural language processing (NLP) is an interdisciplinary subfield of computer science and linguistics. It is primarily concerned with giving computers the ability to support and manipulate human language. It involves processing natural language datasets, such as text corpora or speech corpora, using either rule-based or probabilistic (i.e. statistical and, most recently, neural network-based) machine learning approaches. The goal is a computer capable of \"understanding\" the contents of documents, including the contextual nuances of the language within them. The technology can then accurately extract information and insights contained in the documents as well as categorize and organize the documents themselves.\n",
            " Challenges in natural language processing frequently involve speech recognition, natural-language understanding, and natural-language generation.\n",
            " Natural language processing has its roots in the 1940s.[1] Already in 1940, Alan Turing published an article titled \"Computing Machinery and Intelligence\" which proposed what is now called the Turing test as a criterion of intelligence, though at the time that was not articulated as a problem separate from artificial intelligence. The proposed test includes a task that involves the automated interpretation and generation of natural language.\n",
            " The premise of symbolic NLP is well-summarized by John Searle's Chinese room experiment: Given a collection of rules (e.g., a Chinese phrasebook, with questions and matching answers), the computer emulates natural language understanding (or other NLP tasks) by applying those rules to the data it confronts.\n",
            " Up until the 1980s, most natural language processing systems were based on complex sets of hand-written rules.  Starting in the late 1980s, however, there was a revolution in natural language processing with the introduction of machine learning algorithms for language processing.  This was due to both the steady increase in computational power (see Moore's law) and the gradual lessening of the dominance of Chomskyan theories of linguistics (e.g. transformational grammar), whose theoretical underpinnings discouraged the sort of corpus linguistics that underlies the machine-learning approach to language processing.[8]\n",
            " In 2003, word n-gram model, at the time the best statistical algorithm, was overperformed by a multi-layer perceptron (with a single hidden layer and context length of several words trained on up to 14 million of words with a CPU cluster in language modelling) by Yoshua Bengio with co-authors.[9]\n",
            " In 2010, Tomáš Mikolov (then a PhD student at Brno University of Technology) with co-authors applied a simple recurrent neural network with a single hidden layer to language modelling,[10] and in the following years he went on to develop Word2vec. In the 2010s, representation learning and deep neural network-style (featuring many hidden layers) machine learning methods became widespread in natural language processing. That popularity was due partly to a flurry of results showing that such techniques[11][12] can achieve state-of-the-art results in many natural language tasks, e.g., in language modeling[13] and parsing.[14][15] This is increasingly important in medicine and healthcare, where NLP helps analyze notes and text in electronic health records that would otherwise be inaccessible for study when seeking to improve care[16] or protect patient privacy.[17]\n",
            " \n",
            " Symbolic approach, i.e., the hand-coding of a set of rules for manipulating symbols, coupled with a dictionary lookup, was historically the first approach used both by AI in general and by NLP in particular:[18][19] such as by writing grammars or devising heuristic rules for stemming.\n",
            " Machine learning approaches, which include both statistical and neural networks, on the other hand, have many advantages over the symbolic approach: \n",
            " Although rule-based systems for manipulating symbols were still in use in 2020, they have become mostly obsolete with the advance of LLMs in 2023. \n",
            " Before that they were commonly used:\n",
            " In the late 1980s and mid-1990s, the statistical approach ended a period of AI winter, which was caused by the inefficiencies of the rule-based approaches.[20][21]\n",
            " The earliest decision trees, producing systems of hard if–then rules, were still very similar to the old rule-based approaches.\n",
            "Only the introduction of hidden Markov models, applied to part-of-speech tagging, announced the end of the old rule-based approach.\n",
            " A major drawback of statistical methods is that they require elaborate feature engineering. Since 2015,[22] the statistical approach was replaced by the neural networks approach, using word embeddings to capture semantic properties of words. \n",
            " Intermediate tasks (e.g., part-of-speech tagging and dependency parsing) have not been needed anymore. \n",
            " Neural machine translation, based on then-newly-invented sequence-to-sequence transformations, made obsolete the intermediate steps, such as word alignment, previously necessary for statistical machine translation.\n",
            " The following is a list of some of the most commonly researched tasks in natural language processing. Some of these tasks have direct real-world applications, while others more commonly serve as subtasks that are used to aid in solving larger tasks.\n",
            " Though natural language processing tasks are closely intertwined, they can be subdivided into categories for convenience. A coarse division is given below.\n",
            " Based on long-standing trends in the field, it is possible to extrapolate future directions of NLP. As of 2020, three trends among the topics of the long-standing series of CoNLL Shared Tasks can be observed:[44]\n",
            " Most higher-level NLP applications involve aspects that emulate intelligent behaviour and apparent comprehension of natural language. More broadly speaking, the technical operationalization of increasingly advanced aspects of cognitive behaviour represents one of the developmental trajectories of NLP (see trends among CoNLL shared tasks above).\n",
            " Cognition refers to \"the mental action or process of acquiring knowledge and understanding through thought, experience, and the senses.\"[45] Cognitive science is the interdisciplinary, scientific study of the mind and its processes.[46] Cognitive linguistics is an interdisciplinary branch of linguistics, combining knowledge and research from both psychology and linguistics.[47] Especially during the age of symbolic NLP, the area of computational linguistics maintained strong ties with cognitive studies.\n",
            " As an example, George Lakoff offers a methodology to build natural language processing (NLP) algorithms through the perspective of cognitive science, along with the findings of cognitive linguistics,[48] with two defining aspects:\n",
            " Ties with cognitive linguistics are part of the historical heritage of NLP, but they have been less frequently addressed since the statistical turn during the 1990s. Nevertheless, approaches to develop cognitive models towards technically operationalizable frameworks have been pursued in the context of various frameworks, e.g., of cognitive grammar,[51] functional grammar,[52] construction grammar,[53] computational psycholinguistics and cognitive neuroscience (e.g., ACT-R), however, with limited uptake in mainstream NLP (as measured by presence on major conferences[54] of the ACL). More recently, ideas of cognitive NLP have been revived as an approach to achieve explainability, e.g., under the notion of \"cognitive AI\".[55] Likewise, ideas of cognitive NLP are inherent to neural models multimodal NLP (although rarely made explicit)[56] and developments in artificial intelligence, specifically tools and technologies using large language model approaches[57] and new directions in artificial general intelligence based on the free energy principle[58] by British neuroscientist and theoretician at University College London Karl J. Friston.\n",
            "\n"
          ]
        }
      ]
    },
    {
      "cell_type": "code",
      "source": [
        "import nltk\n",
        "nltk.download('punkt')\n",
        "nltk.download('stopwords')\n",
        "\n",
        "from nltk.corpus import stopwords\n",
        "from nltk.tokenize import word_tokenize, sent_tokenize\n",
        "from nltk.probability import FreqDist\n",
        "from heapq import nlargest\n",
        "\n",
        "# Sample text\n",
        "fulltext = result_sentence\n",
        "\n",
        "# Tokenize the text into sentences\n",
        "sentences = sent_tokenize(fulltext)\n",
        "\n",
        "# Tokenize the text into words\n",
        "words = word_tokenize(fulltext)\n",
        "\n",
        "# Remove stopwords\n",
        "stop_words = set(stopwords.words(\"english\"))\n",
        "filtered_words = [word for word in words if word.lower() not in stop_words]\n",
        "\n",
        "# Calculate word frequency\n",
        "word_freq = FreqDist(filtered_words)\n",
        "\n",
        "# Calculate sentence scores based on word frequency\n",
        "sent_scores = {}\n",
        "for sentence in sentences:\n",
        "    for word in word_tokenize(sentence.lower()):\n",
        "        if word in word_freq:\n",
        "            if len(sentence.split(' ')) < 30:  # Consider only sentences less than 30 words long\n",
        "                if sentence not in sent_scores:\n",
        "                    sent_scores[sentence] = word_freq[word]\n",
        "                else:\n",
        "                    sent_scores[sentence] += word_freq[word]\n",
        "\n",
        "# Get the top sentences with the highest scores\n",
        "summary_sentences = nlargest(5, sent_scores, key=sent_scores.get)\n",
        "summary = ' '.join(summary_sentences)\n",
        "print(summary)\n",
        "\n",
        "print(len(summary))\n",
        "print(\"ratio of reduction = \" , 1 - (len(summary) / len(fulltext)) )\n",
        "print(\"-------------------\")"
      ],
      "metadata": {
        "colab": {
          "base_uri": "https://localhost:8080/"
        },
        "id": "TNR9Ewxcd9md",
        "outputId": "168b3a73-665d-42e6-cbe8-9995f3fb64d8"
      },
      "execution_count": null,
      "outputs": [
        {
          "output_type": "stream",
          "name": "stderr",
          "text": [
            "[nltk_data] Downloading package punkt to /root/nltk_data...\n",
            "[nltk_data]   Unzipping tokenizers/punkt.zip.\n"
          ]
        },
        {
          "output_type": "stream",
          "name": "stdout",
          "text": [
            "That popularity was due partly to a flurry of results showing that such techniques[11][12] can achieve state-of-the-art results in many natural language tasks, e.g., in language modeling[13] and parsing. Neural machine translation, based on then-newly-invented sequence-to-sequence transformations, made obsolete the intermediate steps, such as word alignment, previously necessary for statistical machine translation. [20][21]\n",
            " The earliest decision trees, producing systems of hard if–then rules, were still very similar to the old rule-based approaches. More recently, ideas of cognitive NLP have been revived as an approach to achieve explainability, e.g., under the notion of \"cognitive AI\". Since 2015,[22] the statistical approach was replaced by the neural networks approach, using word embeddings to capture semantic properties of words.\n",
            "846\n",
            "ratio of reduction =  0.8935313365215203\n",
            "-------------------\n"
          ]
        },
        {
          "output_type": "stream",
          "name": "stderr",
          "text": [
            "[nltk_data] Downloading package stopwords to /root/nltk_data...\n",
            "[nltk_data]   Unzipping corpora/stopwords.zip.\n"
          ]
        }
      ]
    },
    {
      "cell_type": "markdown",
      "source": [
        "let's break down the logic behind the (above) code:\n",
        "\n",
        "1. **Tokenization:**\n",
        "   - The text is tokenized into sentences using `sent_tokenize` and into words using `word_tokenize`. This breaks down the text into meaningful units, allowing us to analyze it more effectively.\n",
        "\n",
        "2. **Stopword Removal:**\n",
        "   - Stopwords are common words that typically do not carry significant meaning in a sentence. They are removed from the list of words using NLTK's `stopwords` corpus. This step helps in focusing on the most meaningful words in the text.\n",
        "\n",
        "3. **Word Frequency Calculation:**\n",
        "   - The frequency of each word is calculated using `FreqDist`, which creates a frequency distribution of words in the text. This step helps in identifying the most important words in the text based on their frequency.\n",
        "\n",
        "4. **Sentence Score Calculation:**\n",
        "   - For each sentence in the text, the code iterates over its words and calculates a score based on the frequency of each word. Only sentences with a length less than 30 words are considered. The score of each sentence is the sum of frequencies of words it contains.\n",
        "\n",
        "5. **Top Sentences Selection:**\n",
        "   - The top 5 sentences with the highest scores are selected using `nlargest`. This function returns the n largest elements from a list based on a specified key function, which in this case is the score of each sentence.\n",
        "\n",
        "6. **Summary Generation:**\n",
        "   - The selected sentences are concatenated into a single summary using `' '.join(summary_sentences)`. This creates a single string containing the top sentences, separated by a space.\n",
        "\n",
        "7. **Printing the Summary:**\n",
        "   - Finally, the generated summary is printed to the console.\n",
        "\n",
        "This code essentially summarizes a given text by identifying the most important sentences based on the frequency of the words they contain. It's a basic approach to automatic text summarization using NLTK."
      ],
      "metadata": {
        "id": "SukzDiJnkl-c"
      }
    },
    {
      "cell_type": "markdown",
      "metadata": {
        "id": "mmjdv8u6XhHg"
      },
      "source": [
        "Method 2 :  Feature-based text summarization\n",
        "--\n",
        "This feature-based text summarization methods will extract a feature from\n",
        "the sentence and check the importance to rank it. Position, length, term\n",
        "frequency, named entity, and many other features are used to calculate the\n",
        "score.\n",
        "\n",
        "Luhn’s Algorithm is one of the feature-based algorithms, and we will\n",
        "see how to implement it using the sumy library."
      ]
    },
    {
      "cell_type": "code",
      "source": [
        "# Install sumy\n",
        "!pip install sumy"
      ],
      "metadata": {
        "colab": {
          "base_uri": "https://localhost:8080/"
        },
        "id": "zoeJmAYygdnH",
        "outputId": "d775f499-a1a1-4308-d94d-6b821506a3ff"
      },
      "execution_count": null,
      "outputs": [
        {
          "output_type": "stream",
          "name": "stdout",
          "text": [
            "Collecting sumy\n",
            "  Downloading sumy-0.11.0-py2.py3-none-any.whl (97 kB)\n",
            "\u001b[2K     \u001b[90m━━━━━━━━━━━━━━━━━━━━━━━━━━━━━━━━━━━━━━━━\u001b[0m \u001b[32m97.3/97.3 kB\u001b[0m \u001b[31m1.2 MB/s\u001b[0m eta \u001b[36m0:00:00\u001b[0m\n",
            "\u001b[?25hCollecting docopt<0.7,>=0.6.1 (from sumy)\n",
            "  Downloading docopt-0.6.2.tar.gz (25 kB)\n",
            "  Preparing metadata (setup.py) ... \u001b[?25l\u001b[?25hdone\n",
            "Collecting breadability>=0.1.20 (from sumy)\n",
            "  Downloading breadability-0.1.20.tar.gz (32 kB)\n",
            "  Preparing metadata (setup.py) ... \u001b[?25l\u001b[?25hdone\n",
            "Requirement already satisfied: requests>=2.7.0 in /usr/local/lib/python3.10/dist-packages (from sumy) (2.31.0)\n",
            "Collecting pycountry>=18.2.23 (from sumy)\n",
            "  Downloading pycountry-23.12.11-py3-none-any.whl (6.2 MB)\n",
            "\u001b[2K     \u001b[90m━━━━━━━━━━━━━━━━━━━━━━━━━━━━━━━━━━━━━━━━\u001b[0m \u001b[32m6.2/6.2 MB\u001b[0m \u001b[31m25.2 MB/s\u001b[0m eta \u001b[36m0:00:00\u001b[0m\n",
            "\u001b[?25hRequirement already satisfied: nltk>=3.0.2 in /usr/local/lib/python3.10/dist-packages (from sumy) (3.8.1)\n",
            "Requirement already satisfied: chardet in /usr/local/lib/python3.10/dist-packages (from breadability>=0.1.20->sumy) (5.2.0)\n",
            "Requirement already satisfied: lxml>=2.0 in /usr/local/lib/python3.10/dist-packages (from breadability>=0.1.20->sumy) (4.9.4)\n",
            "Requirement already satisfied: click in /usr/local/lib/python3.10/dist-packages (from nltk>=3.0.2->sumy) (8.1.7)\n",
            "Requirement already satisfied: joblib in /usr/local/lib/python3.10/dist-packages (from nltk>=3.0.2->sumy) (1.3.2)\n",
            "Requirement already satisfied: regex>=2021.8.3 in /usr/local/lib/python3.10/dist-packages (from nltk>=3.0.2->sumy) (2023.12.25)\n",
            "Requirement already satisfied: tqdm in /usr/local/lib/python3.10/dist-packages (from nltk>=3.0.2->sumy) (4.66.2)\n",
            "Requirement already satisfied: charset-normalizer<4,>=2 in /usr/local/lib/python3.10/dist-packages (from requests>=2.7.0->sumy) (3.3.2)\n",
            "Requirement already satisfied: idna<4,>=2.5 in /usr/local/lib/python3.10/dist-packages (from requests>=2.7.0->sumy) (3.6)\n",
            "Requirement already satisfied: urllib3<3,>=1.21.1 in /usr/local/lib/python3.10/dist-packages (from requests>=2.7.0->sumy) (2.0.7)\n",
            "Requirement already satisfied: certifi>=2017.4.17 in /usr/local/lib/python3.10/dist-packages (from requests>=2.7.0->sumy) (2024.2.2)\n",
            "Building wheels for collected packages: breadability, docopt\n",
            "  Building wheel for breadability (setup.py) ... \u001b[?25l\u001b[?25hdone\n",
            "  Created wheel for breadability: filename=breadability-0.1.20-py2.py3-none-any.whl size=21691 sha256=8f86c23f7913e990376dde0b521e82f453dc021c29fb32b22c732f19e0986c93\n",
            "  Stored in directory: /root/.cache/pip/wheels/64/22/90/b84fcc30e16598db20a0d41340616dbf9b1e82bbcc627b0b33\n",
            "  Building wheel for docopt (setup.py) ... \u001b[?25l\u001b[?25hdone\n",
            "  Created wheel for docopt: filename=docopt-0.6.2-py2.py3-none-any.whl size=13706 sha256=616363d4c5ededb14637d218e6fc80b07089205cb2b1c272bc1e83e68803f0f4\n",
            "  Stored in directory: /root/.cache/pip/wheels/fc/ab/d4/5da2067ac95b36618c629a5f93f809425700506f72c9732fac\n",
            "Successfully built breadability docopt\n",
            "Installing collected packages: docopt, pycountry, breadability, sumy\n",
            "Successfully installed breadability-0.1.20 docopt-0.6.2 pycountry-23.12.11 sumy-0.11.0\n"
          ]
        }
      ]
    },
    {
      "cell_type": "code",
      "execution_count": null,
      "metadata": {
        "id": "vjLcXyFxXhHh",
        "outputId": "ded2b7e4-db4d-4e3d-856c-60eff6045c79",
        "colab": {
          "base_uri": "https://localhost:8080/"
        }
      },
      "outputs": [
        {
          "output_type": "stream",
          "name": "stdout",
          "text": [
            "Length of characters in the document: 40648\n",
            "---------------------\n",
            "Focus areas of the time included research on rule-based parsing (e.g., the development of HPSG as a computational operationalization of generative grammar), morphology (e.g., two-level morphology[5]), semantics (e.g., Lesk algorithm), reference (e.g., within Centering Theory[6]) and other areas of natural language understanding (e.g., in the Rhetorical Structure Theory).\n",
            "Dependency parsing focuses on the relationships between words in a sentence (marking things like primary objects and predicates), whereas constituency parsing focuses on building out the parse tree using a probabilistic context-free grammar(PCFG) (see also stochastic grammar).\n",
            "Semantic role labelling(see also implicit semantic role labelling below) Given a single sentence, identify and disambiguate semantic predicates (e.g., verbal frames), then identify and classify the frame elements ( semantic roles).\n",
            "The more general task of coreference resolution also includes identifying so-called \"bridging relationships\" involving referring expressions.\n",
            "Implicit semantic role labelling Given a single sentence, identify and disambiguate semantic predicates (e.g., verbal frames) and their explicit semantic roles in the current sentence (see Semantic role labelling above).\n",
            "Interest on increasingly abstract, \"cognitive\" aspects of natural language (1999–2001: shallow parsing, 2002–03: named entity recognition, 2006–09/2017–18: dependency syntax, 2004–05/2008–09 semantic role labelling, 2011–12 coreference, 2015–16: discourse parsing, 2019: semantic parsing).\n",
            "Increasing interest in multilinguality, and, potentially, multimodality (English since 1999; Spanish, Dutch since 2002; German since 2003; Bulgarian, Danish, Japanese, Portuguese, Slovenian, Swedish, Turkish since 2006; Basque, Catalan, Chinese, Greek, Hungarian, Italian, Turkish since 2007; Czech since 2009; Arabic since 2012; 2017: 40+ languages; 2018: 60+/100+ languages) Elimination of symbolic representations (rule-based over supervised towards weakly supervised methods, representation learning and end-to-end systems)\n",
            "RMM(tokenN)=PMM(tokenN)×12d(∑i=−dd((PMM(tokenN)×PF(tokenN−i,tokenN,tokenN+i))i){\\displaystyle {RMM(token_{N})}={PMM(token_{N})}\\times {\\frac {1}{2d}}\\left(\\sum _{i=-d}^{d}{((PMM(token_{N})}\\times {PF(token_{N-i},token_{N},token_{N+i}))_{i}}\\right)} Where RMM is the relative measure of meaning token is any block of text, sentence, phrase or word N is the number of tokens being analyzed PMM is the probable measure of meaning based on a corpora d is the non zero location of the token along the sequence of N tokens PF is the probability function specific to a language Ties with cognitive linguistics are part of the historical heritage of NLP, but they have been less frequently addressed since the statistical turn during the 1990s.\n",
            "[55] Likewise, ideas of cognitive NLP are inherent to neural models multimodal NLP (although rarely made explicit)[56] and developments in artificial intelligence, specifically tools and technologies using large language model approaches[57] and new directions in artificial general intelligence based on the free energy principle[58] by British neuroscientist and theoretician at University College London Karl J. Friston.\n",
            "S2CID 30688575.^ Chomskyan linguistics encourages the investigation of \" corner cases\" that stress the limits of its theoretical models (comparable to pathological phenomena in mathematics), typically created using thought experiments, rather than the systematic investigation of typical phenomena that occur in real-world data, as is the case in corpus linguistics.\n",
            "-------------------\n",
            "3583\n",
            "-------------------\n",
            "ratio of reduction =  0.9118529816965164\n"
          ]
        }
      ],
      "source": [
        "# Import the packages\n",
        "from sumy.parsers.html import HtmlParser\n",
        "from sumy.parsers.plaintext import PlaintextParser\n",
        "from sumy.nlp.tokenizers import Tokenizer\n",
        "from sumy.nlp.stemmers import Stemmer\n",
        "from sumy.utils import get_stop_words\n",
        "from sumy.summarizers.luhn import LuhnSummarizer\n",
        "\n",
        "# Extracting and summarizing\n",
        "LANGUAGE = \"english\"\n",
        "SENTENCES_COUNT = 10\n",
        "\n",
        "url=\"https://en.wikipedia.org/wiki/Natural_language_processing\"\n",
        "parser = HtmlParser.from_url(url, Tokenizer(LANGUAGE))\n",
        "\n",
        "# Get the text content of the document\n",
        "document_text = \"\"\n",
        "for sentence in parser.document.sentences:\n",
        "    document_text += str(sentence) + \" \"  # Concatenate each sentence into the document text\n",
        "\n",
        "# Calculate the length of characters in the document\n",
        "chars_count = len(document_text)\n",
        "\n",
        "# Print the length of characters\n",
        "print(\"Length of characters in the document:\", chars_count)\n",
        "\n",
        "print(\"---------------------\")\n",
        "\n",
        "## Summarizing the content\n",
        "summarizer = LuhnSummarizer(Stemmer(LANGUAGE))\n",
        "summarizer.stop_words = get_stop_words(LANGUAGE)\n",
        "\n",
        "countAfterSummary = 0\n",
        "for sentence in summarizer(parser.document, SENTENCES_COUNT):\n",
        " print(sentence)\n",
        " countAfterSummary = countAfterSummary + len(str(sentence))\n",
        "\n",
        "print(\"-------------------\")\n",
        "print(countAfterSummary)\n",
        "print(\"-------------------\")\n",
        "print(\"ratio of reduction = \" , 1 - (countAfterSummary / chars_count) )"
      ]
    },
    {
      "cell_type": "code",
      "execution_count": null,
      "metadata": {
        "id": "6ClhMFSbXhHk",
        "outputId": "331a4de6-03c9-44eb-857b-a3650a08ad36",
        "colab": {
          "base_uri": "https://localhost:8080/"
        }
      },
      "outputs": [
        {
          "output_type": "stream",
          "name": "stdout",
          "text": [
            "<sumy.summarizers.luhn.LuhnSummarizer object at 0x7e33af5e58a0>\n",
            "frozenset({'us', 'perhaps', 'welcome', 'placed', 'him', 'anyways', 'considering', 'brief', 'r', 'sup', 'eight', 'doing', 'most', 'anyway', 'd', 'theirs', 'particularly', \"aren't\", \"wouldn't\", 'tell', 'whereas', 'upon', 'immediate', 'therefore', 'th', 'fifth', 'per', 'tends', 'whenever', 'like', 'you', 'everyone', 'ltd', 'onto', 'came', 'certainly', 'among', 'wants', 'indicate', 'above', 'zero', 'respectively', 'everywhere', 'see', 'such', 'these', \"they'd\", 'somehow', 'everything', 'and', 'regardless', 'meanwhile', 'say', 'thereafter', 'entirely', 'old', \"they've\", 'taken', 'saying', 'none', 'non', 'those', 'f', 'could', 'went', \"it'd\", 'into', 'certain', \"couldn't\", 'second', 'ones', \"he's\", 'where', 'h', 'insofar', 'would', 'himself', 'do', 'much', 'six', 'herein', 'ex', 'with', 'seeing', \"doesn't\", 'he', 'especially', 'were', 'keeps', 'happens', 'currently', 'even', \"they'll\", 'despite', 'specifying', 'myself', 'comes', 'ok', 'enough', 'hi', 'next', 'beyond', 'p', 'going', \"you're\", 'less', 'vs', 'wish', 'neither', 'hello', 'ought', 'ever', 'somewhere', 'seem', \"there's\", 'nor', \"she'll\", 'very', 'right', 'ie', 'forth', 'associated', 'indicated', 'almost', \"shouldn't\", \"i'd\", 'either', 'w', 'according', 'of', 'one', 'about', 'inc', 'able', 'sometime', 'up', 'itself', 'became', 'thorough', 'cause', 'anything', \"it's\", 'go', 'please', 'furthermore', 'inasmuch', 'done', \"i've\", \"c's\", 'q', 'thence', 'whoever', 'yes', 'appreciate', 'its', 'nevertheless', 'followed', 'that', 'your', 'something', 'causes', 'will', 'thereby', 'un', 'later', 'over', 'come', 'by', 'two', 'allow', 'but', 'instead', 'least', 'example', 'sure', 'five', 'often', \"he'd\", 'my', 'our', 'definitely', 'ignored', 'accordingly', 'after', \"ain't\", 'once', 'seemed', 'seems', 'does', 'probably', 'maybe', \"t's\", 'until', 'way', \"can't\", 'cant', 'get', 'did', \"won't\", 'also', 'own', 'secondly', 'theres', 'hopefully', 'how', 'might', 'reasonably', 'third', 'getting', 'already', 'an', 'apart', 'relatively', 'they', 'all', 'becoming', 'to', 'together', 'noone', 'qv', 'lest', 'particular', 'if', 'provides', 'mainly', 'selves', 'mostly', 'awfully', 'que', 'first', 'consequently', 'be', 'everybody', 'thus', 'hither', 'liked', 'beside', 'nd', 'self', 'etc', 'seriously', 'anywhere', 'sent', 'while', 'as', 'away', 'three', 'better', 'concerning', 'uucp', 'downwards', 'et', \"i'll\", 'given', 'no', 'against', 'unto', 'nowhere', 'use', 'y', 'hereby', 'across', 'follows', 'should', 'sometimes', 'she', 'around', 'several', 'anyone', 'some', 'yet', 'want', 'wherein', 'whatever', 'through', 'nothing', 'containing', 'mean', \"a's\", \"they're\", 'specify', 'hers', 'more', 'hereupon', 'm', 'me', 'both', 'best', 'keep', 'within', 'think', 'amongst', 'twice', 'only', \"hasn't\", 'now', 'somebody', 'normally', 'seeming', 'whereupon', 'viz', 'uses', 'whither', 'elsewhere', \"shan't\", 'somewhat', 'themselves', 'has', 's', 'needs', 'have', 'further', 'n', 'unless', 'rather', 'new', 'off', 'here', 'few', 'j', \"let's\", 'out', 'regards', \"isn't\", 'changes', 'whence', \"she's\", 'tried', 'novel', \"i'm\", 'near', 'unfortunately', 'becomes', 'kept', 'regarding', 'his', 'got', 'been', 'x', 'co', 'may', 'whether', 't', 'why', 'others', \"who's\", 'contain', 'again', 'described', 'howbeit', 'appropriate', 'still', 'possible', 'looking', 'looks', 'herself', 'shall', 'saw', 'since', 'let', 'when', \"c'mon\", 'specified', 'along', 'other', 'someone', 'her', 'is', 'am', 'outside', 'which', 'com', \"didn't\", 'four', 'take', 'so', 'willing', \"we'd\", 'usually', 'nearly', 'hereafter', 'i', 'whom', 'tries', 'towards', 'was', 'afterwards', 'without', \"haven't\", 'different', 'thats', 'exactly', 'sorry', 'however', 'in', 'indeed', \"that's\", 'thanx', 'then', 'c', 'whereafter', 'anyhow', 'gives', 'v', 'besides', 'far', 'trying', 'many', 'k', 'need', 'beforehand', 'whereby', 'wherever', 'ourselves', 'whose', 'consider', 'same', 'who', 'e', 'serious', 'before', 'truly', 'sensible', 'or', 'having', 'namely', 'help', 'eg', 'latterly', 'during', 'ours', 'believe', 'on', 'from', \"it'll\", 'used', 'oh', \"weren't\", \"you'd\", 'knows', 'except', 'every', 'inward', 'corresponding', 'are', 'know', 'appear', 'under', 'seven', 'thereupon', 'thank', 'thanks', 'indicates', 'okay', \"hadn't\", 'known', 'therein', 'what', 'yourself', 'though', 'o', 'them', 'really', 'hence', \"where's\", 'yours', 'not', 'gotten', 'available', \"when's\", 'their', 'soon', \"he'll\", 'overall', \"wasn't\", 'likely', 'must', 'it', 'unlikely', 'we', 'between', 'greetings', 'following', 'name', \"here's\", 'former', 'via', 'rd', 'using', \"she'd\", 'had', \"we'll\", 'lately', 'u', 'gets', 'throughout', 'seen', 'too', \"we've\", 'b', 'contains', \"you've\", 'hardly', 'than', 'toward', \"what's\", 'well', \"how's\", 'took', 'says', 'for', 'goes', 'try', 'last', 'thru', 'ask', 'whole', 'down', 'although', 'asking', 'each', 'obviously', \"we're\", 'presumably', 'nine', 'z', 'aside', 'various', 'g', 'always', 'another', 'value', 'useful', 'necessary', 'clearly', 'allows', 'gone', 'being', 'actually', 'the', 'edu', 'this', 'look', 'l', \"don't\", 'sub', 'little', \"mustn't\", 'moreover', 're', 'formerly', 'otherwise', 'just', 'yourselves', 'course', 'quite', 'there', 'wonder', \"you'll\", 'because', 'nobody', 'latter', 'alone', 'become', 'merely', 'below', 'plus', 'inner', 'behind', 'thoroughly', 'cannot', 'never', 'any', 'a', 'anybody', 'said', \"why's\", 'else', 'at', 'can'})\n"
          ]
        }
      ],
      "source": [
        "# just to check the summarizer object\n",
        "print(summarizer)\n",
        "\n",
        "# and see its stop words list\n",
        "print(summarizer.stop_words)"
      ]
    },
    {
      "cell_type": "raw",
      "metadata": {
        "id": "4-6s4XiwXhHl"
      },
      "source": [
        "Problem solved !!\n",
        "\n",
        "Now you don’t have to read the whole notes; just read the summary whenever we are running low on time.\n",
        "\n",
        "Better Solutions :\n",
        "----------------\n",
        "We can use many of the deep learning techniques to get better accuracy and better results like the Encoder-Decoder Model. We will see how to do that in the next chapter. (Refer : Text classification using CNN, RNN, LSTM)"
      ]
    },
    {
      "cell_type": "markdown",
      "metadata": {
        "id": "BmpWFLBYXhHm"
      },
      "source": [
        "Recommended Reading\n",
        "--\n",
        "\n",
        "https://towardsdatascience.com/text-summarization-on-the-books-of-harry-potter-5e9f5bf8ca6c"
      ]
    }
  ],
  "metadata": {
    "kernelspec": {
      "display_name": "Python 3",
      "language": "python",
      "name": "python3"
    },
    "language_info": {
      "codemirror_mode": {
        "name": "ipython",
        "version": 3
      },
      "file_extension": ".py",
      "mimetype": "text/x-python",
      "name": "python",
      "nbconvert_exporter": "python",
      "pygments_lexer": "ipython3",
      "version": "3.6.8"
    },
    "colab": {
      "provenance": [],
      "include_colab_link": true
    }
  },
  "nbformat": 4,
  "nbformat_minor": 0
}